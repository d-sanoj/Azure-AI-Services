{
 "cells": [
  {
   "cell_type": "code",
   "execution_count": 3,
   "id": "0a1d4cb0-1976-426c-96b7-17de8886f9c7",
   "metadata": {
    "tags": []
   },
   "outputs": [],
   "source": [
    "import requests, uuid, json"
   ]
  },
  {
   "cell_type": "code",
   "execution_count": 5,
   "id": "80dcd84d-3273-4565-b6db-59e915b663a5",
   "metadata": {
    "tags": []
   },
   "outputs": [],
   "source": [
    "# Add your key and endpoint\n",
    "key = \"YOUR_TRANSLATOR_SERVICE_KEY\"\n",
    "endpoint = \"https://api.cognitive.microsofttranslator.com\"\n",
    "location = \"westus\""
   ]
  },
  {
   "cell_type": "code",
   "execution_count": 13,
   "id": "7d540926-5354-414a-b09b-ea47841e1013",
   "metadata": {
    "tags": []
   },
   "outputs": [
    {
     "name": "stdout",
     "output_type": "stream",
     "text": [
      "[\n",
      "    {\n",
      "        \"translations\": [\n",
      "            {\n",
      "                \"text\": \"J’aimerais vraiment conduire votre voiture autour du pâté de maisons plusieurs fois !\",\n",
      "                \"to\": \"fr\"\n",
      "            },\n",
      "            {\n",
      "                \"text\": \"Ngingathanda ukushayela imoto yakho ezungeze ibhlokhi izikhathi ezimbalwa!\",\n",
      "                \"to\": \"zu\"\n",
      "            },\n",
      "            {\n",
      "                \"text\": \"నేను మీ కారును బ్లాక్ చుట్టూ కొన్నిసార్లు నడపాలనుకుంటున్నాను!\",\n",
      "                \"to\": \"te\"\n",
      "            }\n",
      "        ]\n",
      "    }\n",
      "]\n"
     ]
    }
   ],
   "source": [
    "path = '/translate'\n",
    "constructed_url = endpoint + path\n",
    "\n",
    "params = {\n",
    "    'api-version': '3.0', \n",
    "    'from': 'en', \n",
    "    'to': ['fr', 'zu', 'te']\n",
    "}\n",
    "\n",
    "headers = {\n",
    "    'Ocp-Apim-Subscription-Key': key,\n",
    "    # location required if you're using a multi-service or regional (not global) resource.\n",
    "    'Ocp-Apim-Subscription-Region': location,\n",
    "    'Content-type': 'application/json',\n",
    "    'X-ClientTraceId': str(uuid.uuid4())\n",
    "}\n",
    "\n",
    "# You can pass more than one object in body.\n",
    "body = [{\n",
    "    'text': 'I would really like to drive your car around the block a few times!'\n",
    "}]\n",
    "\n",
    "request = requests.post(constructed_url, params=params, headers=headers, json=body)\n",
    "response = request.json()\n",
    "\n",
    "print(json.dumps(response, sort_keys=True, ensure_ascii=False, indent=4, separators=(',', ': ')))"
   ]
  },
  {
   "cell_type": "code",
   "execution_count": null,
   "id": "d3396c87-53a6-473e-abf2-2844d7a8fb34",
   "metadata": {},
   "outputs": [],
   "source": []
  }
 ],
 "metadata": {
  "kernelspec": {
   "display_name": "Python 3.10 - SDK v2",
   "language": "python",
   "name": "python310-sdkv2"
  },
  "language_info": {
   "codemirror_mode": {
    "name": "ipython",
    "version": 3
   },
   "file_extension": ".py",
   "mimetype": "text/x-python",
   "name": "python",
   "nbconvert_exporter": "python",
   "pygments_lexer": "ipython3",
   "version": "3.10.14"
  }
 },
 "nbformat": 4,
 "nbformat_minor": 5
}
